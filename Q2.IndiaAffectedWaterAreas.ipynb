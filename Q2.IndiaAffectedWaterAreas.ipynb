{
 "cells": [
  {
   "cell_type": "code",
   "execution_count": 4,
   "metadata": {},
   "outputs": [],
   "source": [
    "import numpy as np\n",
    "import pandas as pd\n",
    "import matplotlib.pyplot as plt"
   ]
  },
  {
   "cell_type": "markdown",
   "metadata": {},
   "source": [
    "Import data from the desktop"
   ]
  },
  {
   "cell_type": "code",
   "execution_count": 5,
   "metadata": {},
   "outputs": [
    {
     "name": "stdout",
     "output_type": "stream",
     "text": [
      "<_io.TextIOWrapper name='C://Users/DELL/OneDrive/Desktop/Sai University/semester 2/DAV/Assignment 3/IndiaAffectedWaterQualityAreas.csv' mode='r' encoding='cp1252'>\n"
     ]
    }
   ],
   "source": [
    "# Load the dataset from a file\n",
    "# Replace 'path_to_your_file.csv' with the actual file path\n",
    "\n",
    "\n",
    "with open(\"C://Users/DELL/OneDrive/Desktop/Sai University/semester 2/DAV/Assignment 3/IndiaAffectedWaterQualityAreas.csv\") as f:\n",
    "    print(f)\n",
    "    data = pd.read_csv(\"C://Users/DELL/OneDrive/Desktop/Sai University/semester 2/DAV/Assignment 3/IndiaAffectedWaterQualityAreas.csv\", encoding='cp1252')\n",
    "    "
   ]
  },
  {
   "cell_type": "markdown",
   "metadata": {},
   "source": [
    "1. Basic data cleaning steps (check for missing data and say how you will deal with it using fillna, change\n",
    "column names to make them more understandable, etc.)"
   ]
  },
  {
   "cell_type": "code",
   "execution_count": 6,
   "metadata": {},
   "outputs": [
    {
     "data": {
      "text/plain": [
       "(550242, 8)"
      ]
     },
     "execution_count": 6,
     "metadata": {},
     "output_type": "execute_result"
    }
   ],
   "source": [
    "data.shape# Displays shape of the object"
   ]
  },
  {
   "cell_type": "code",
   "execution_count": 7,
   "metadata": {},
   "outputs": [
    {
     "name": "stdout",
     "output_type": "stream",
     "text": [
      "       State Name      District Name      Block Name   Panchayat Name  \\\n",
      "0  ANDHRA PRADESH  EAST GODAVARI(04)  PRATHIPADU(10)    GOKAVARAM(04)   \n",
      "1  ANDHRA PRADESH  EAST GODAVARI(04)  PRATHIPADU(10)    GOKAVARAM(04)   \n",
      "2  ANDHRA PRADESH  EAST GODAVARI(04)  PRATHIPADU(10)  GAJJANAPUDI(06)   \n",
      "3  ANDHRA PRADESH  EAST GODAVARI(04)  PRATHIPADU(10)  GAJJANAPUDI(06)   \n",
      "4  ANDHRA PRADESH  EAST GODAVARI(04)  PRATHIPADU(10)   CHINTALURU(10)   \n",
      "\n",
      "           Village Name                   Habitation Name Quality Parameter  \\\n",
      "0        VANTHADA(014 )        VANTHADA(0404410014010400)          Salinity   \n",
      "1  PANDAVULAPALEM(022 )  PANDAVULAPALEM(0404410022010400)          Fluoride   \n",
      "2      G. KOTHURU(023 )      G. KOTHURU(0404410023010600)          Salinity   \n",
      "3     GAJJANAPUDI(029 )     GAJJANAPUDI(0404410029010600)          Salinity   \n",
      "4      CHINTALURU(028 )      CHINTALURU(0404410028011000)          Salinity   \n",
      "\n",
      "       Year  \n",
      "0  1/4/2009  \n",
      "1  1/4/2009  \n",
      "2  1/4/2009  \n",
      "3  1/4/2009  \n",
      "4  1/4/2009  \n"
     ]
    }
   ],
   "source": [
    "# Display the first few rows of the dataframe to understand its structure\n",
    "print(data.head())"
   ]
  },
  {
   "cell_type": "code",
   "execution_count": 8,
   "metadata": {},
   "outputs": [],
   "source": [
    "# List of columns that are numerical and will be used to calculate the correlation matrix\n",
    "numeric_columns = [\n",
    "    'Overall Rating', \n",
    "    'Work Life Balance', \n",
    "    'Culture and Values', \n",
    "    'Diversity and Inclusion', \n",
    "    'Career Opportunities',\n",
    "    # Add other numerical columns here if needed\n",
    "]"
   ]
  },
  {
   "cell_type": "code",
   "execution_count": 9,
   "metadata": {},
   "outputs": [
    {
     "data": {
      "text/plain": [
       "Index(['State Name', 'District Name', 'Block Name', 'Panchayat Name',\n",
       "       'Village Name', 'Habitation Name', 'Quality Parameter', 'Year'],\n",
       "      dtype='object')"
      ]
     },
     "execution_count": 9,
     "metadata": {},
     "output_type": "execute_result"
    }
   ],
   "source": [
    "data.columns"
   ]
  },
  {
   "cell_type": "code",
   "execution_count": 10,
   "metadata": {},
   "outputs": [
    {
     "data": {
      "text/plain": [
       "['State',\n",
       " 'District',\n",
       " 'Block',\n",
       " 'Panchayat',\n",
       " 'Village',\n",
       " 'Habitation',\n",
       " 'QualityParameter',\n",
       " 'Year']"
      ]
     },
     "execution_count": 10,
     "metadata": {},
     "output_type": "execute_result"
    }
   ],
   "source": [
    "new_column_names = ['State', 'District', 'Block', 'Panchayat', 'Village', 'Habitation', 'QualityParameter', 'Year']\n",
    "\n",
    "# Assigning new column names\n",
    "data.columns = new_column_names\n",
    "new_column_names"
   ]
  },
  {
   "cell_type": "code",
   "execution_count": 11,
   "metadata": {},
   "outputs": [
    {
     "name": "stdout",
     "output_type": "stream",
     "text": [
      "<class 'pandas.core.frame.DataFrame'>\n",
      "RangeIndex: 550242 entries, 0 to 550241\n",
      "Data columns (total 8 columns):\n",
      " #   Column            Non-Null Count   Dtype \n",
      "---  ------            --------------   ----- \n",
      " 0   State             550242 non-null  object\n",
      " 1   District          550242 non-null  object\n",
      " 2   Block             550242 non-null  object\n",
      " 3   Panchayat         550242 non-null  object\n",
      " 4   Village           550242 non-null  object\n",
      " 5   Habitation        550242 non-null  object\n",
      " 6   QualityParameter  550242 non-null  object\n",
      " 7   Year              550242 non-null  object\n",
      "dtypes: object(8)\n",
      "memory usage: 33.6+ MB\n"
     ]
    }
   ],
   "source": [
    "data.info()#"
   ]
  },
  {
   "cell_type": "code",
   "execution_count": 12,
   "metadata": {},
   "outputs": [
    {
     "data": {
      "text/plain": [
       "State               False\n",
       "District            False\n",
       "Block               False\n",
       "Panchayat           False\n",
       "Village             False\n",
       "Habitation          False\n",
       "QualityParameter    False\n",
       "Year                False\n",
       "dtype: bool"
      ]
     },
     "execution_count": 12,
     "metadata": {},
     "output_type": "execute_result"
    }
   ],
   "source": [
    "data.isnull().any()"
   ]
  },
  {
   "cell_type": "code",
   "execution_count": 13,
   "metadata": {},
   "outputs": [
    {
     "data": {
      "text/plain": [
       "State               0\n",
       "District            0\n",
       "Block               0\n",
       "Panchayat           0\n",
       "Village             0\n",
       "Habitation          0\n",
       "QualityParameter    0\n",
       "Year                0\n",
       "dtype: int64"
      ]
     },
     "execution_count": 13,
     "metadata": {},
     "output_type": "execute_result"
    }
   ],
   "source": [
    "y=data.isnull().sum()\n",
    "y"
   ]
  },
  {
   "cell_type": "code",
   "execution_count": 15,
   "metadata": {},
   "outputs": [],
   "source": [
    "# Extract a specific element from the DataFrame 'data' using row and column indices\n",
    "\n",
    "# 'iloc' is a method in pandas used for integer-location based indexing for selection by position.\n",
    "# 'data.iloc[3, 0]' means:\n",
    "# - '3' refers to the fourth row (indexing starts at 0)\n",
    "# - '0' refers to the first column\n",
    "\n",
    "# Therefore, this line extracts the value from the fourth row and the first column of the DataFrame 'data'\n",
    "element = data.iloc[3, 0]\n",
    "\n",
    "# 'element' now contains the value located at the fourth row and the first column of 'data'\n"
   ]
  },
  {
   "cell_type": "code",
   "execution_count": 16,
   "metadata": {},
   "outputs": [
    {
     "name": "stdout",
     "output_type": "stream",
     "text": [
      "\n",
      "DataFrame after filling null values:\n",
      "                 State           District           Block          Panchayat  \\\n",
      "0       ANDHRA PRADESH  EAST GODAVARI(04)  PRATHIPADU(10)      GOKAVARAM(04)   \n",
      "1       ANDHRA PRADESH  EAST GODAVARI(04)  PRATHIPADU(10)      GOKAVARAM(04)   \n",
      "2       ANDHRA PRADESH  EAST GODAVARI(04)  PRATHIPADU(10)    GAJJANAPUDI(06)   \n",
      "3       ANDHRA PRADESH  EAST GODAVARI(04)  PRATHIPADU(10)    GAJJANAPUDI(06)   \n",
      "4       ANDHRA PRADESH  EAST GODAVARI(04)  PRATHIPADU(10)     CHINTALURU(10)   \n",
      "...                ...                ...             ...                ...   \n",
      "550237           ASSAM             JORHAT       KALIAPANI     CHINTAMONIGARH   \n",
      "550238           ASSAM             JORHAT       KALIAPANI     CHINTAMONIGARH   \n",
      "550239           ASSAM             JORHAT       KALIAPANI  TAMULICHIGA  GAON   \n",
      "550240           ASSAM             JORHAT       KALIAPANI  TAMULICHIGA  GAON   \n",
      "550241           ASSAM             JORHAT       KALIAPANI  TAMULICHIGA  GAON   \n",
      "\n",
      "                       Village                        Habitation  \\\n",
      "0               VANTHADA(014 )        VANTHADA(0404410014010400)   \n",
      "1         PANDAVULAPALEM(022 )  PANDAVULAPALEM(0404410022010400)   \n",
      "2             G. KOTHURU(023 )      G. KOTHURU(0404410023010600)   \n",
      "3            GAJJANAPUDI(029 )     GAJJANAPUDI(0404410029010600)   \n",
      "4             CHINTALURU(028 )      CHINTALURU(0404410028011000)   \n",
      "...                        ...                               ...   \n",
      "550237  GHARACHOWA  HABI  GAON        2 NO. BORA - SAIKIA  CHUCK   \n",
      "550238         GHARPHALIA GAON                  GHARPHOLIA CHUCK   \n",
      "550239         SIMALUGURI GAON         SIMALUGURI  BAMUN   CHUCK   \n",
      "550240         SIMALUGURI GAON           POURUA  CHANGMI   CHUCK   \n",
      "550241         SIMALUGURI GAON     TATALIGURI    KOIBORTA  CHUCK   \n",
      "\n",
      "       QualityParameter      Year  \n",
      "0              Salinity  1/4/2009  \n",
      "1              Fluoride  1/4/2009  \n",
      "2              Salinity  1/4/2009  \n",
      "3              Salinity  1/4/2009  \n",
      "4              Salinity  1/4/2009  \n",
      "...                 ...       ...  \n",
      "550237             Iron  1/4/2012  \n",
      "550238             Iron  1/4/2012  \n",
      "550239             Iron  1/4/2012  \n",
      "550240             Iron  1/4/2012  \n",
      "550241             Iron  1/4/2012  \n",
      "\n",
      "[550242 rows x 8 columns]\n",
      "\n",
      "Rows that had null values updated:\n",
      "Empty DataFrame\n",
      "Columns: [State, District, Block, Panchayat, Village, Habitation, QualityParameter, Year]\n",
      "Index: []\n"
     ]
    }
   ],
   "source": [
    "# Fill missing values in the numerical columns\n",
    "# 'fillna(element)' fills NaNs with 0; you might choose a different strategy like mean or median\n",
    "null_mask = data.isnull().any(axis=1)\n",
    "\n",
    "# Fill null values with a specific value (e.g., 0)\n",
    "df_filled = data.fillna(element)\n",
    "\n",
    "# Display the updated DataFrame\n",
    "print(\"\\nDataFrame after filling null values:\")\n",
    "print(df_filled)\n",
    "\n",
    "# Display the rows that had null values and were updated\n",
    "updated_rows = df_filled[null_mask]\n",
    "\n",
    "print(\"\\nRows that had null values updated:\")\n",
    "print(updated_rows)"
   ]
  },
  {
   "cell_type": "code",
   "execution_count": 17,
   "metadata": {},
   "outputs": [
    {
     "data": {
      "text/html": [
       "<div>\n",
       "<style scoped>\n",
       "    .dataframe tbody tr th:only-of-type {\n",
       "        vertical-align: middle;\n",
       "    }\n",
       "\n",
       "    .dataframe tbody tr th {\n",
       "        vertical-align: top;\n",
       "    }\n",
       "\n",
       "    .dataframe thead th {\n",
       "        text-align: right;\n",
       "    }\n",
       "</style>\n",
       "<table border=\"1\" class=\"dataframe\">\n",
       "  <thead>\n",
       "    <tr style=\"text-align: right;\">\n",
       "      <th></th>\n",
       "      <th>State</th>\n",
       "      <th>District</th>\n",
       "      <th>Block</th>\n",
       "      <th>Panchayat</th>\n",
       "      <th>Village</th>\n",
       "      <th>Habitation</th>\n",
       "      <th>QualityParameter</th>\n",
       "      <th>Year</th>\n",
       "    </tr>\n",
       "  </thead>\n",
       "  <tbody>\n",
       "    <tr>\n",
       "      <th>0</th>\n",
       "      <td>ANDHRA PRADESH</td>\n",
       "      <td>EAST GODAVARI(04)</td>\n",
       "      <td>PRATHIPADU(10)</td>\n",
       "      <td>GOKAVARAM(04)</td>\n",
       "      <td>VANTHADA(014 )</td>\n",
       "      <td>VANTHADA(0404410014010400)</td>\n",
       "      <td>Salinity</td>\n",
       "      <td>1/4/2009</td>\n",
       "    </tr>\n",
       "    <tr>\n",
       "      <th>1</th>\n",
       "      <td>ANDHRA PRADESH</td>\n",
       "      <td>EAST GODAVARI(04)</td>\n",
       "      <td>PRATHIPADU(10)</td>\n",
       "      <td>GOKAVARAM(04)</td>\n",
       "      <td>PANDAVULAPALEM(022 )</td>\n",
       "      <td>PANDAVULAPALEM(0404410022010400)</td>\n",
       "      <td>Fluoride</td>\n",
       "      <td>1/4/2009</td>\n",
       "    </tr>\n",
       "    <tr>\n",
       "      <th>2</th>\n",
       "      <td>ANDHRA PRADESH</td>\n",
       "      <td>EAST GODAVARI(04)</td>\n",
       "      <td>PRATHIPADU(10)</td>\n",
       "      <td>GAJJANAPUDI(06)</td>\n",
       "      <td>G. KOTHURU(023 )</td>\n",
       "      <td>G. KOTHURU(0404410023010600)</td>\n",
       "      <td>Salinity</td>\n",
       "      <td>1/4/2009</td>\n",
       "    </tr>\n",
       "    <tr>\n",
       "      <th>3</th>\n",
       "      <td>ANDHRA PRADESH</td>\n",
       "      <td>EAST GODAVARI(04)</td>\n",
       "      <td>PRATHIPADU(10)</td>\n",
       "      <td>GAJJANAPUDI(06)</td>\n",
       "      <td>GAJJANAPUDI(029 )</td>\n",
       "      <td>GAJJANAPUDI(0404410029010600)</td>\n",
       "      <td>Salinity</td>\n",
       "      <td>1/4/2009</td>\n",
       "    </tr>\n",
       "    <tr>\n",
       "      <th>4</th>\n",
       "      <td>ANDHRA PRADESH</td>\n",
       "      <td>EAST GODAVARI(04)</td>\n",
       "      <td>PRATHIPADU(10)</td>\n",
       "      <td>CHINTALURU(10)</td>\n",
       "      <td>CHINTALURU(028 )</td>\n",
       "      <td>CHINTALURU(0404410028011000)</td>\n",
       "      <td>Salinity</td>\n",
       "      <td>1/4/2009</td>\n",
       "    </tr>\n",
       "    <tr>\n",
       "      <th>...</th>\n",
       "      <td>...</td>\n",
       "      <td>...</td>\n",
       "      <td>...</td>\n",
       "      <td>...</td>\n",
       "      <td>...</td>\n",
       "      <td>...</td>\n",
       "      <td>...</td>\n",
       "      <td>...</td>\n",
       "    </tr>\n",
       "    <tr>\n",
       "      <th>550237</th>\n",
       "      <td>ASSAM</td>\n",
       "      <td>JORHAT</td>\n",
       "      <td>KALIAPANI</td>\n",
       "      <td>CHINTAMONIGARH</td>\n",
       "      <td>GHARACHOWA  HABI  GAON</td>\n",
       "      <td>2 NO. BORA - SAIKIA  CHUCK</td>\n",
       "      <td>Iron</td>\n",
       "      <td>1/4/2012</td>\n",
       "    </tr>\n",
       "    <tr>\n",
       "      <th>550238</th>\n",
       "      <td>ASSAM</td>\n",
       "      <td>JORHAT</td>\n",
       "      <td>KALIAPANI</td>\n",
       "      <td>CHINTAMONIGARH</td>\n",
       "      <td>GHARPHALIA GAON</td>\n",
       "      <td>GHARPHOLIA CHUCK</td>\n",
       "      <td>Iron</td>\n",
       "      <td>1/4/2012</td>\n",
       "    </tr>\n",
       "    <tr>\n",
       "      <th>550239</th>\n",
       "      <td>ASSAM</td>\n",
       "      <td>JORHAT</td>\n",
       "      <td>KALIAPANI</td>\n",
       "      <td>TAMULICHIGA  GAON</td>\n",
       "      <td>SIMALUGURI GAON</td>\n",
       "      <td>SIMALUGURI  BAMUN   CHUCK</td>\n",
       "      <td>Iron</td>\n",
       "      <td>1/4/2012</td>\n",
       "    </tr>\n",
       "    <tr>\n",
       "      <th>550240</th>\n",
       "      <td>ASSAM</td>\n",
       "      <td>JORHAT</td>\n",
       "      <td>KALIAPANI</td>\n",
       "      <td>TAMULICHIGA  GAON</td>\n",
       "      <td>SIMALUGURI GAON</td>\n",
       "      <td>POURUA  CHANGMI   CHUCK</td>\n",
       "      <td>Iron</td>\n",
       "      <td>1/4/2012</td>\n",
       "    </tr>\n",
       "    <tr>\n",
       "      <th>550241</th>\n",
       "      <td>ASSAM</td>\n",
       "      <td>JORHAT</td>\n",
       "      <td>KALIAPANI</td>\n",
       "      <td>TAMULICHIGA  GAON</td>\n",
       "      <td>SIMALUGURI GAON</td>\n",
       "      <td>TATALIGURI    KOIBORTA  CHUCK</td>\n",
       "      <td>Iron</td>\n",
       "      <td>1/4/2012</td>\n",
       "    </tr>\n",
       "  </tbody>\n",
       "</table>\n",
       "<p>550242 rows × 8 columns</p>\n",
       "</div>"
      ],
      "text/plain": [
       "                 State           District           Block          Panchayat  \\\n",
       "0       ANDHRA PRADESH  EAST GODAVARI(04)  PRATHIPADU(10)      GOKAVARAM(04)   \n",
       "1       ANDHRA PRADESH  EAST GODAVARI(04)  PRATHIPADU(10)      GOKAVARAM(04)   \n",
       "2       ANDHRA PRADESH  EAST GODAVARI(04)  PRATHIPADU(10)    GAJJANAPUDI(06)   \n",
       "3       ANDHRA PRADESH  EAST GODAVARI(04)  PRATHIPADU(10)    GAJJANAPUDI(06)   \n",
       "4       ANDHRA PRADESH  EAST GODAVARI(04)  PRATHIPADU(10)     CHINTALURU(10)   \n",
       "...                ...                ...             ...                ...   \n",
       "550237           ASSAM             JORHAT       KALIAPANI     CHINTAMONIGARH   \n",
       "550238           ASSAM             JORHAT       KALIAPANI     CHINTAMONIGARH   \n",
       "550239           ASSAM             JORHAT       KALIAPANI  TAMULICHIGA  GAON   \n",
       "550240           ASSAM             JORHAT       KALIAPANI  TAMULICHIGA  GAON   \n",
       "550241           ASSAM             JORHAT       KALIAPANI  TAMULICHIGA  GAON   \n",
       "\n",
       "                       Village                        Habitation  \\\n",
       "0               VANTHADA(014 )        VANTHADA(0404410014010400)   \n",
       "1         PANDAVULAPALEM(022 )  PANDAVULAPALEM(0404410022010400)   \n",
       "2             G. KOTHURU(023 )      G. KOTHURU(0404410023010600)   \n",
       "3            GAJJANAPUDI(029 )     GAJJANAPUDI(0404410029010600)   \n",
       "4             CHINTALURU(028 )      CHINTALURU(0404410028011000)   \n",
       "...                        ...                               ...   \n",
       "550237  GHARACHOWA  HABI  GAON        2 NO. BORA - SAIKIA  CHUCK   \n",
       "550238         GHARPHALIA GAON                  GHARPHOLIA CHUCK   \n",
       "550239         SIMALUGURI GAON         SIMALUGURI  BAMUN   CHUCK   \n",
       "550240         SIMALUGURI GAON           POURUA  CHANGMI   CHUCK   \n",
       "550241         SIMALUGURI GAON     TATALIGURI    KOIBORTA  CHUCK   \n",
       "\n",
       "       QualityParameter      Year  \n",
       "0              Salinity  1/4/2009  \n",
       "1              Fluoride  1/4/2009  \n",
       "2              Salinity  1/4/2009  \n",
       "3              Salinity  1/4/2009  \n",
       "4              Salinity  1/4/2009  \n",
       "...                 ...       ...  \n",
       "550237             Iron  1/4/2012  \n",
       "550238             Iron  1/4/2012  \n",
       "550239             Iron  1/4/2012  \n",
       "550240             Iron  1/4/2012  \n",
       "550241             Iron  1/4/2012  \n",
       "\n",
       "[550242 rows x 8 columns]"
      ]
     },
     "execution_count": 17,
     "metadata": {},
     "output_type": "execute_result"
    }
   ],
   "source": [
    "#changing the colounms names  for better readability \n",
    "# Rename the columns to make them more understandable\n",
    "data.rename(columns={\n",
    "    'State Name': 'State',\n",
    "    'District Name': 'District',\n",
    "    'Block Name': 'Block',\n",
    "    'Panchayat Name': 'Panchayat',\n",
    "    'Village Name': 'Village',\n",
    "    'Habitation Name': 'Habitation',\n",
    "    'Quality Parameter': 'QualityParameter',\n",
    "    'Year': 'Year'\n",
    "}, inplace=True)\n",
    "\n",
    "\n",
    "# Display the first few rows of the updated dataframe\n",
    "data.head()\n",
    "data"
   ]
  },
  {
   "cell_type": "code",
   "execution_count": 18,
   "metadata": {},
   "outputs": [
    {
     "data": {
      "text/html": [
       "<div>\n",
       "<style scoped>\n",
       "    .dataframe tbody tr th:only-of-type {\n",
       "        vertical-align: middle;\n",
       "    }\n",
       "\n",
       "    .dataframe tbody tr th {\n",
       "        vertical-align: top;\n",
       "    }\n",
       "\n",
       "    .dataframe thead th {\n",
       "        text-align: right;\n",
       "    }\n",
       "</style>\n",
       "<table border=\"1\" class=\"dataframe\">\n",
       "  <thead>\n",
       "    <tr style=\"text-align: right;\">\n",
       "      <th></th>\n",
       "      <th>State</th>\n",
       "      <th>District</th>\n",
       "      <th>Block</th>\n",
       "      <th>Panchayat</th>\n",
       "      <th>Village</th>\n",
       "      <th>Habitation</th>\n",
       "      <th>QualityParameter</th>\n",
       "      <th>Year</th>\n",
       "    </tr>\n",
       "  </thead>\n",
       "  <tbody>\n",
       "    <tr>\n",
       "      <th>0</th>\n",
       "      <td>ANDHRA PRADESH</td>\n",
       "      <td>EAST GODAVARI(04)</td>\n",
       "      <td>PRATHIPADU(10)</td>\n",
       "      <td>GOKAVARAM(04)</td>\n",
       "      <td>VANTHADA(014 )</td>\n",
       "      <td>VANTHADA(0404410014010400)</td>\n",
       "      <td>Salinity</td>\n",
       "      <td>1/4/2009</td>\n",
       "    </tr>\n",
       "    <tr>\n",
       "      <th>1</th>\n",
       "      <td>ANDHRA PRADESH</td>\n",
       "      <td>EAST GODAVARI(04)</td>\n",
       "      <td>PRATHIPADU(10)</td>\n",
       "      <td>GOKAVARAM(04)</td>\n",
       "      <td>PANDAVULAPALEM(022 )</td>\n",
       "      <td>PANDAVULAPALEM(0404410022010400)</td>\n",
       "      <td>Fluoride</td>\n",
       "      <td>1/4/2009</td>\n",
       "    </tr>\n",
       "    <tr>\n",
       "      <th>2</th>\n",
       "      <td>ANDHRA PRADESH</td>\n",
       "      <td>EAST GODAVARI(04)</td>\n",
       "      <td>PRATHIPADU(10)</td>\n",
       "      <td>GAJJANAPUDI(06)</td>\n",
       "      <td>G. KOTHURU(023 )</td>\n",
       "      <td>G. KOTHURU(0404410023010600)</td>\n",
       "      <td>Salinity</td>\n",
       "      <td>1/4/2009</td>\n",
       "    </tr>\n",
       "    <tr>\n",
       "      <th>3</th>\n",
       "      <td>ANDHRA PRADESH</td>\n",
       "      <td>EAST GODAVARI(04)</td>\n",
       "      <td>PRATHIPADU(10)</td>\n",
       "      <td>GAJJANAPUDI(06)</td>\n",
       "      <td>GAJJANAPUDI(029 )</td>\n",
       "      <td>GAJJANAPUDI(0404410029010600)</td>\n",
       "      <td>Salinity</td>\n",
       "      <td>1/4/2009</td>\n",
       "    </tr>\n",
       "    <tr>\n",
       "      <th>4</th>\n",
       "      <td>ANDHRA PRADESH</td>\n",
       "      <td>EAST GODAVARI(04)</td>\n",
       "      <td>PRATHIPADU(10)</td>\n",
       "      <td>CHINTALURU(10)</td>\n",
       "      <td>CHINTALURU(028 )</td>\n",
       "      <td>CHINTALURU(0404410028011000)</td>\n",
       "      <td>Salinity</td>\n",
       "      <td>1/4/2009</td>\n",
       "    </tr>\n",
       "    <tr>\n",
       "      <th>...</th>\n",
       "      <td>...</td>\n",
       "      <td>...</td>\n",
       "      <td>...</td>\n",
       "      <td>...</td>\n",
       "      <td>...</td>\n",
       "      <td>...</td>\n",
       "      <td>...</td>\n",
       "      <td>...</td>\n",
       "    </tr>\n",
       "    <tr>\n",
       "      <th>550237</th>\n",
       "      <td>ASSAM</td>\n",
       "      <td>JORHAT</td>\n",
       "      <td>KALIAPANI</td>\n",
       "      <td>CHINTAMONIGARH</td>\n",
       "      <td>GHARACHOWA  HABI  GAON</td>\n",
       "      <td>2 NO. BORA - SAIKIA  CHUCK</td>\n",
       "      <td>Iron</td>\n",
       "      <td>1/4/2012</td>\n",
       "    </tr>\n",
       "    <tr>\n",
       "      <th>550238</th>\n",
       "      <td>ASSAM</td>\n",
       "      <td>JORHAT</td>\n",
       "      <td>KALIAPANI</td>\n",
       "      <td>CHINTAMONIGARH</td>\n",
       "      <td>GHARPHALIA GAON</td>\n",
       "      <td>GHARPHOLIA CHUCK</td>\n",
       "      <td>Iron</td>\n",
       "      <td>1/4/2012</td>\n",
       "    </tr>\n",
       "    <tr>\n",
       "      <th>550239</th>\n",
       "      <td>ASSAM</td>\n",
       "      <td>JORHAT</td>\n",
       "      <td>KALIAPANI</td>\n",
       "      <td>TAMULICHIGA  GAON</td>\n",
       "      <td>SIMALUGURI GAON</td>\n",
       "      <td>SIMALUGURI  BAMUN   CHUCK</td>\n",
       "      <td>Iron</td>\n",
       "      <td>1/4/2012</td>\n",
       "    </tr>\n",
       "    <tr>\n",
       "      <th>550240</th>\n",
       "      <td>ASSAM</td>\n",
       "      <td>JORHAT</td>\n",
       "      <td>KALIAPANI</td>\n",
       "      <td>TAMULICHIGA  GAON</td>\n",
       "      <td>SIMALUGURI GAON</td>\n",
       "      <td>POURUA  CHANGMI   CHUCK</td>\n",
       "      <td>Iron</td>\n",
       "      <td>1/4/2012</td>\n",
       "    </tr>\n",
       "    <tr>\n",
       "      <th>550241</th>\n",
       "      <td>ASSAM</td>\n",
       "      <td>JORHAT</td>\n",
       "      <td>KALIAPANI</td>\n",
       "      <td>TAMULICHIGA  GAON</td>\n",
       "      <td>SIMALUGURI GAON</td>\n",
       "      <td>TATALIGURI    KOIBORTA  CHUCK</td>\n",
       "      <td>Iron</td>\n",
       "      <td>1/4/2012</td>\n",
       "    </tr>\n",
       "  </tbody>\n",
       "</table>\n",
       "<p>550242 rows × 8 columns</p>\n",
       "</div>"
      ],
      "text/plain": [
       "                 State           District           Block          Panchayat  \\\n",
       "0       ANDHRA PRADESH  EAST GODAVARI(04)  PRATHIPADU(10)      GOKAVARAM(04)   \n",
       "1       ANDHRA PRADESH  EAST GODAVARI(04)  PRATHIPADU(10)      GOKAVARAM(04)   \n",
       "2       ANDHRA PRADESH  EAST GODAVARI(04)  PRATHIPADU(10)    GAJJANAPUDI(06)   \n",
       "3       ANDHRA PRADESH  EAST GODAVARI(04)  PRATHIPADU(10)    GAJJANAPUDI(06)   \n",
       "4       ANDHRA PRADESH  EAST GODAVARI(04)  PRATHIPADU(10)     CHINTALURU(10)   \n",
       "...                ...                ...             ...                ...   \n",
       "550237           ASSAM             JORHAT       KALIAPANI     CHINTAMONIGARH   \n",
       "550238           ASSAM             JORHAT       KALIAPANI     CHINTAMONIGARH   \n",
       "550239           ASSAM             JORHAT       KALIAPANI  TAMULICHIGA  GAON   \n",
       "550240           ASSAM             JORHAT       KALIAPANI  TAMULICHIGA  GAON   \n",
       "550241           ASSAM             JORHAT       KALIAPANI  TAMULICHIGA  GAON   \n",
       "\n",
       "                       Village                        Habitation  \\\n",
       "0               VANTHADA(014 )        VANTHADA(0404410014010400)   \n",
       "1         PANDAVULAPALEM(022 )  PANDAVULAPALEM(0404410022010400)   \n",
       "2             G. KOTHURU(023 )      G. KOTHURU(0404410023010600)   \n",
       "3            GAJJANAPUDI(029 )     GAJJANAPUDI(0404410029010600)   \n",
       "4             CHINTALURU(028 )      CHINTALURU(0404410028011000)   \n",
       "...                        ...                               ...   \n",
       "550237  GHARACHOWA  HABI  GAON        2 NO. BORA - SAIKIA  CHUCK   \n",
       "550238         GHARPHALIA GAON                  GHARPHOLIA CHUCK   \n",
       "550239         SIMALUGURI GAON         SIMALUGURI  BAMUN   CHUCK   \n",
       "550240         SIMALUGURI GAON           POURUA  CHANGMI   CHUCK   \n",
       "550241         SIMALUGURI GAON     TATALIGURI    KOIBORTA  CHUCK   \n",
       "\n",
       "       QualityParameter      Year  \n",
       "0              Salinity  1/4/2009  \n",
       "1              Fluoride  1/4/2009  \n",
       "2              Salinity  1/4/2009  \n",
       "3              Salinity  1/4/2009  \n",
       "4              Salinity  1/4/2009  \n",
       "...                 ...       ...  \n",
       "550237             Iron  1/4/2012  \n",
       "550238             Iron  1/4/2012  \n",
       "550239             Iron  1/4/2012  \n",
       "550240             Iron  1/4/2012  \n",
       "550241             Iron  1/4/2012  \n",
       "\n",
       "[550242 rows x 8 columns]"
      ]
     },
     "execution_count": 18,
     "metadata": {},
     "output_type": "execute_result"
    }
   ],
   "source": [
    "data#Displaying dataset after filling missing values"
   ]
  },
  {
   "cell_type": "markdown",
   "metadata": {},
   "source": [
    "2. Write code to generate basic statistical data for the given dataset"
   ]
  },
  {
   "cell_type": "code",
   "execution_count": 14,
   "metadata": {},
   "outputs": [
    {
     "data": {
      "text/html": [
       "<div>\n",
       "<style scoped>\n",
       "    .dataframe tbody tr th:only-of-type {\n",
       "        vertical-align: middle;\n",
       "    }\n",
       "\n",
       "    .dataframe tbody tr th {\n",
       "        vertical-align: top;\n",
       "    }\n",
       "\n",
       "    .dataframe thead th {\n",
       "        text-align: right;\n",
       "    }\n",
       "</style>\n",
       "<table border=\"1\" class=\"dataframe\">\n",
       "  <thead>\n",
       "    <tr style=\"text-align: right;\">\n",
       "      <th></th>\n",
       "      <th>State</th>\n",
       "      <th>District</th>\n",
       "      <th>Block</th>\n",
       "      <th>Panchayat</th>\n",
       "      <th>Village</th>\n",
       "      <th>Habitation</th>\n",
       "      <th>QualityParameter</th>\n",
       "      <th>Year</th>\n",
       "    </tr>\n",
       "  </thead>\n",
       "  <tbody>\n",
       "    <tr>\n",
       "      <th>count</th>\n",
       "      <td>550242</td>\n",
       "      <td>550242</td>\n",
       "      <td>550242</td>\n",
       "      <td>550242</td>\n",
       "      <td>550242</td>\n",
       "      <td>550242</td>\n",
       "      <td>550242</td>\n",
       "      <td>550242</td>\n",
       "    </tr>\n",
       "    <tr>\n",
       "      <th>unique</th>\n",
       "      <td>27</td>\n",
       "      <td>493</td>\n",
       "      <td>3577</td>\n",
       "      <td>37471</td>\n",
       "      <td>81703</td>\n",
       "      <td>147566</td>\n",
       "      <td>5</td>\n",
       "      <td>4</td>\n",
       "    </tr>\n",
       "    <tr>\n",
       "      <th>top</th>\n",
       "      <td>RAJASTHAN</td>\n",
       "      <td>BARMER</td>\n",
       "      <td>BALESAR</td>\n",
       "      <td>RATANPUR</td>\n",
       "      <td>RAMPUR</td>\n",
       "      <td>HARIJAN TOLA</td>\n",
       "      <td>Iron</td>\n",
       "      <td>1/4/2009</td>\n",
       "    </tr>\n",
       "    <tr>\n",
       "      <th>freq</th>\n",
       "      <td>131417</td>\n",
       "      <td>43752</td>\n",
       "      <td>8358</td>\n",
       "      <td>797</td>\n",
       "      <td>691</td>\n",
       "      <td>3072</td>\n",
       "      <td>302244</td>\n",
       "      <td>179999</td>\n",
       "    </tr>\n",
       "  </tbody>\n",
       "</table>\n",
       "</div>"
      ],
      "text/plain": [
       "            State District    Block Panchayat Village    Habitation  \\\n",
       "count      550242   550242   550242    550242  550242        550242   \n",
       "unique         27      493     3577     37471   81703        147566   \n",
       "top     RAJASTHAN   BARMER  BALESAR  RATANPUR  RAMPUR  HARIJAN TOLA   \n",
       "freq       131417    43752     8358       797     691          3072   \n",
       "\n",
       "       QualityParameter      Year  \n",
       "count            550242    550242  \n",
       "unique                5         4  \n",
       "top                Iron  1/4/2009  \n",
       "freq             302244    179999  "
      ]
     },
     "execution_count": 14,
     "metadata": {},
     "output_type": "execute_result"
    }
   ],
   "source": [
    "# Generate summary statistics for numerical columns in the DataFrame 'data'\n",
    "u = data.describe()\n",
    "\n",
    "# 'data.describe()' provides statistical summary of numerical columns:\n",
    "# - Count: Number of non-null values\n",
    "# - Mean: Average of the values\n",
    "# - Std: Standard deviation of the values\n",
    "# - Min: Minimum value\n",
    "# - 25%: 25th percentile (first quartile)\n",
    "# - 50%: 50th percentile (median or second quartile)\n",
    "# - 75%: 75th percentile (third quartile)\n",
    "# - Max: Maximum value\n",
    "\n",
    "# Display the summary statistics\n",
    "u\n"
   ]
  },
  {
   "cell_type": "markdown",
   "metadata": {},
   "source": [
    "3. Try to infer at least two pieces of information from the data by asking the correct question and coding to\n",
    "find the answer.\n"
   ]
  },
  {
   "cell_type": "markdown",
   "metadata": {},
   "source": [
    "\n",
    "1)How many unique quality parameters are recorded in the dataset, and what are they?"
   ]
  },
  {
   "cell_type": "code",
   "execution_count": 19,
   "metadata": {},
   "outputs": [
    {
     "name": "stdout",
     "output_type": "stream",
     "text": [
      "Unique Quality Parameters: ['Salinity' 'Fluoride' 'Iron' 'Arsenic' 'Nitrate']\n",
      "Number of Unique Quality Parameters: 5\n"
     ]
    }
   ],
   "source": [
    "# Extract the unique values from the 'QualityParameter' column in the DataFrame 'data'\n",
    "# The 'unique()' method returns an array of unique values found in the specified column\n",
    "unique_quality_parameters = data['QualityParameter'].unique()\n",
    "\n",
    "# Calculate the number of unique quality parameters\n",
    "# 'len()' function is used to get the length of the array, which represents the count of unique values\n",
    "num_unique_quality_parameters = len(unique_quality_parameters)\n",
    "\n",
    "# Print the unique quality parameters\n",
    "# This provides a list of all distinct values present in the 'QualityParameter' column\n",
    "print(\"Unique Quality Parameters:\", unique_quality_parameters)\n",
    "\n",
    "# Print the number of unique quality parameters\n",
    "# This displays the count of distinct values found in the 'QualityParameter' column\n",
    "print(\"Number of Unique Quality Parameters:\", num_unique_quality_parameters)\n"
   ]
  },
  {
   "cell_type": "markdown",
   "metadata": {},
   "source": [
    "2)How many records are there for each quality parameter?"
   ]
  },
  {
   "cell_type": "code",
   "execution_count": 20,
   "metadata": {},
   "outputs": [
    {
     "name": "stdout",
     "output_type": "stream",
     "text": [
      "Number of Records for Each QualityParameter:\n",
      "QualityParameter\n",
      "Iron        302244\n",
      "Salinity    108923\n",
      "Fluoride    101041\n",
      "Arsenic      25705\n",
      "Nitrate      12329\n",
      "Name: count, dtype: int64\n"
     ]
    }
   ],
   "source": [
    "# Counting the number of records for each quality parameter\n",
    "quality_parameter_counts = data['QualityParameter'].value_counts()\n",
    "\n",
    "# Printing the number of records for each quality parameter\n",
    "print(\"Number of Records for Each QualityParameter:\")\n",
    "print(quality_parameter_counts)\n"
   ]
  },
  {
   "cell_type": "markdown",
   "metadata": {},
   "source": [
    "4)Visualise at least two interesting inferences, or information that you may want to draw attention to, from\n",
    "the chosen dataset using your favourite visualisation tool."
   ]
  },
  {
   "cell_type": "code",
   "execution_count": 21,
   "metadata": {},
   "outputs": [
    {
     "data": {
      "image/png": "[encoded data removed]",
      "text/plain": [
       "<Figure size 1000x600 with 1 Axes>"
      ]
     },
     "metadata": {},
     "output_type": "display_data"
    }
   ],
   "source": [
    "# Calculating the frequency of each quality parameter\n",
    "quality_counts = data['QualityParameter'].value_counts()\n",
    "\n",
    "# Setting up the plot\n",
    "plt.figure(figsize=(10, 6))  # Defining the size of the plot figure\n",
    "quality_counts.plot(kind='bar', color='skyblue')  # Creating a bar plot with skyblue bars\n",
    "\n",
    "# Adding plot titles and labels\n",
    "plt.title('Frequency of Quality Parameters')  # Setting the title of the plot\n",
    "plt.xlabel('QualityParameter')  # Labeling the x-axis\n",
    "plt.ylabel('Frequency')  # Labeling the y-axis\n",
    "plt.xticks(rotation=45)  # Rotating x-axis labels for better readability\n",
    "\n",
    "# Displaying the plot\n",
    "plt.show()\n"
   ]
  },
  {
   "cell_type": "code",
   "execution_count": 22,
   "metadata": {},
   "outputs": [
    {
     "data": {
      "image/png": "[encoded data removed]",
      "text/plain": [
       "<Figure size 1000x800 with 1 Axes>"
      ]
     },
     "metadata": {},
     "output_type": "display_data"
    }
   ],
   "source": [
    "# Calculating the frequency of each quality parameter\n",
    "quality_counts = data['QualityParameter'].value_counts()\n",
    "\n",
    "# Setting up the plot\n",
    "plt.figure(figsize=(10, 8))  # Defining the size of the plot figure\n",
    "\n",
    "# Creating the pie chart\n",
    "plt.pie(quality_counts,                 # Data values for the pie chart\n",
    "        labels=quality_counts.index,    # Labels for each slice of the pie chart\n",
    "        autopct='%1.1f%%',              # Display format for autopct (percentage format)\n",
    "        colors=plt.cm.Paired.colors)    # Colors for each slice of the pie chart\n",
    "\n",
    "# Adding plot title\n",
    "plt.title('qualityParameter')  # Setting the title of the plot\n",
    "\n",
    "# Ensuring the pie chart is circular\n",
    "plt.axis('equal')  # Equal aspect ratio ensures the pie chart is circular.\n",
    "\n",
    "# Displaying the plot\n",
    "plt.show()\n"
   ]
  }
 ],
 "metadata": {
  "kernelspec": {
   "display_name": "Python 3",
   "language": "python",
   "name": "python3"
  },
  "language_info": {
   "codemirror_mode": {
    "name": "ipython",
    "version": 3
   },
   "file_extension": ".py",
   "mimetype": "text/x-python",
   "name": "python",
   "nbconvert_exporter": "python",
   "pygments_lexer": "ipython3",
   "version": "3.12.2"
  }
 },
 "nbformat": 4,
 "nbformat_minor": 2
}
